{
 "cells": [
  {
   "cell_type": "markdown",
   "metadata": {},
   "source": [
    "# Instalación de Django\n",
    "---\n",
    "\n",
    "\n",
    "Para instalar Django se puede hacer desde la terminal a traves de `pip`"
   ]
  },
  {
   "cell_type": "code",
   "execution_count": null,
   "metadata": {},
   "outputs": [],
   "source": [
    "%pip install django"
   ]
  },
  {
   "cell_type": "markdown",
   "metadata": {},
   "source": [
    "## Una vez se instalado\n",
    "\n",
    "Se debe crear un proyecto, esto debe de ser desde la terminal usando `django-admin startproject nombre_del_proyecto`."
   ]
  },
  {
   "cell_type": "code",
   "execution_count": 4,
   "metadata": {},
   "outputs": [],
   "source": [
    "!django-admin startproject sap"
   ]
  },
  {
   "cell_type": "markdown",
   "metadata": {},
   "source": [
    "Esto al ser ejecutado nos creara una carpeta con el nombre de nuestro proyecto y dentro de esta otra carpeta interna con el mismo nombre,la que contendrá los archivos de configuración de la aplicación, ademas de el *manage.py* en la carpeta externa.\n",
    "\n",
    "![file](images/djagon_project_start.png)\n",
    "\n",
    "para poder ejecutar la aplicación tenemos que movernos en la terminal a la carpeta *sap*."
   ]
  },
  {
   "cell_type": "code",
   "execution_count": 2,
   "metadata": {},
   "outputs": [
    {
     "data": {
      "text/plain": [
       "'c:\\\\Users\\\\mesas\\\\OneDrive\\\\Documentos\\\\Developer\\\\Python_Frameworks\\\\Django'"
      ]
     },
     "execution_count": 2,
     "metadata": {},
     "output_type": "execute_result"
    }
   ],
   "source": [
    "%pwd"
   ]
  },
  {
   "cell_type": "code",
   "execution_count": 3,
   "metadata": {},
   "outputs": [
    {
     "name": "stdout",
     "output_type": "stream",
     "text": [
      "c:\\Users\\mesas\\OneDrive\\Documentos\\Developer\\Python_Frameworks\\Django\\sap\n"
     ]
    }
   ],
   "source": [
    "%cd sap"
   ]
  },
  {
   "cell_type": "markdown",
   "metadata": {},
   "source": [
    "Una vez localizados en la carpeta *sap* procedemos a ejecutar el comando `python manage.py runserver` para levantar un servidor interno para el desarrollo de la app de Django"
   ]
  },
  {
   "cell_type": "code",
   "execution_count": null,
   "metadata": {},
   "outputs": [],
   "source": [
    "!python manage.py runserver"
   ]
  },
  {
   "cell_type": "markdown",
   "metadata": {},
   "source": [
    "![servidor](images/start_server.png)\n",
    "\n",
    "accediendo a la dirección proporcionada entraras a tu aplicación lo que significa que hemos creado nuestra primer aplicación en Django.\n",
    "\n",
    "![app](images/app_server.png)"
   ]
  }
 ],
 "metadata": {
  "interpreter": {
   "hash": "8e2ca50168e9b3a8a0aee0e5ce7a47d0d3899563172a8b2aa7e0cb3194315acc"
  },
  "kernelspec": {
   "display_name": "Python 3.10.2 ('django-env': venv)",
   "language": "python",
   "name": "python3"
  },
  "language_info": {
   "codemirror_mode": {
    "name": "ipython",
    "version": 3
   },
   "file_extension": ".py",
   "mimetype": "text/x-python",
   "name": "python",
   "nbconvert_exporter": "python",
   "pygments_lexer": "ipython3",
   "version": "3.10.2"
  },
  "orig_nbformat": 4
 },
 "nbformat": 4,
 "nbformat_minor": 2
}
