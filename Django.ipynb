{
 "cells": [
  {
   "cell_type": "markdown",
   "metadata": {},
   "source": [
    "# Instalación de Django\n",
    "---\n",
    "\n",
    "\n",
    "Para instalar Django se puede hacer desde la terminal a traves de `pip`"
   ]
  },
  {
   "cell_type": "code",
   "execution_count": null,
   "metadata": {},
   "outputs": [],
   "source": [
    "%pip install django"
   ]
  },
  {
   "cell_type": "markdown",
   "metadata": {},
   "source": [
    "## Una vez se instalado\n",
    "\n",
    "Se debe crear un proyecto, esto debe de ser desde la terminal usando `django-admin startproject nombre_del_proyecto`."
   ]
  },
  {
   "cell_type": "code",
   "execution_count": 4,
   "metadata": {},
   "outputs": [],
   "source": [
    "!django-admin startproject sap"
   ]
  },
  {
   "cell_type": "markdown",
   "metadata": {},
   "source": [
    "Esto al ser ejecutado nos creara una carpeta con el nombre de nuestro proyecto y dentro de esta otra carpeta interna con el mismo nombre,la que contendrá los archivos de configuración de la aplicación, ademas de el *manage.py* en la carpeta externa.\n",
    "\n",
    "![file](images/django_project_start.png)\n",
    "\n",
    "para poder ejecutar la aplicación tenemos que movernos en la terminal a la carpeta *sap*."
   ]
  },
  {
   "cell_type": "code",
   "execution_count": 2,
   "metadata": {},
   "outputs": [
    {
     "data": {
      "text/plain": [
       "'c:\\\\Users\\\\mesas\\\\OneDrive\\\\Documentos\\\\Developer\\\\Python_Frameworks\\\\Django'"
      ]
     },
     "execution_count": 2,
     "metadata": {},
     "output_type": "execute_result"
    }
   ],
   "source": [
    "%pwd"
   ]
  },
  {
   "cell_type": "code",
   "execution_count": 3,
   "metadata": {},
   "outputs": [
    {
     "name": "stdout",
     "output_type": "stream",
     "text": [
      "c:\\Users\\mesas\\OneDrive\\Documentos\\Developer\\Python_Frameworks\\Django\\sap\n"
     ]
    }
   ],
   "source": [
    "%cd sap"
   ]
  },
  {
   "cell_type": "markdown",
   "metadata": {},
   "source": [
    "Una vez localizados en la carpeta *sap* procedemos a ejecutar el comando `python manage.py runserver` para levantar un servidor interno para el desarrollo de la app de Django"
   ]
  },
  {
   "cell_type": "code",
   "execution_count": null,
   "metadata": {},
   "outputs": [],
   "source": [
    "!python manage.py runserver"
   ]
  },
  {
   "cell_type": "markdown",
   "metadata": {},
   "source": [
    "![servidor](images/start_server.png)\n",
    "\n",
    "accediendo a la dirección proporcionada entraras a tu aplicación lo que significa que hemos creado nuestra primer aplicación en Django.\n",
    "\n",
    "![app](images/app_server.png)\n",
    "\n",
    "## Como responder con contenido web.\n",
    "___\n",
    "\n",
    "Desde nuestra aplicación de Django vamos agregar el concepto de *APP*, este nos permitirá organizar de mejor manera nuestras aplicaciones Django, una aplicación normalmente organiza una parte de nuestro sistema, por ejemplo una app para la parte de la seguridad de la aplicación, otra para organizar las paginas generales de la app para ello debemos localizarnos en la carpeta de nuestra aplicación desde la terminal y ejecutar el comando `python manage.py startapp nombre_del_app`\n",
    "\n",
    "![app](images/creacion_app.png)\n",
    "\n",
    "Una vez realizado esto se nos creara una carpeta con el nombre de la app creada, con los archivos necesarios para administrar la app.\n",
    "\n",
    "![admin_app](images/files_app_admin.png)\n",
    "\n",
    "De momento no son necesarios todos los demás archivos con excepción de **views** que es con el que trabajaremos y donde se incluirá el código que se mostrara en el navegador web, ademas cada vez que creamos una nueva app es necesario registrarla, para ello nos dirigiremos a la carpeta principal de la aplicación y dentro del archivo **`settings.py`** buscaremos la lista de **`INSTALLED_APPS`** y agregamos el nombre de nuestra app a la lista.\n",
    "\n",
    "![reg_app](images/register_app.png)\n",
    "\n",
    "Una vez registrada nuestra aplicación es igual necesario definir una url, esto lo podemos hacer de igual manera en la carpeta del proyecto ingresando a **`urls.py`** ya que cada app tiene su propio administrador por lo que hay que agregar nuestro nuevo admin al path de Django.\n",
    "\n",
    "![admin_app](images/admin_preview.png)\n",
    "\n"
   ]
  },
  {
   "cell_type": "markdown",
   "metadata": {},
   "source": [
    "Para esto agregamos a la lista el nombre que le daremos a la ruta seguido de una función, esta función deberemos definir la dentro del componente que deseamos mandar a llamar. \n",
    "\n",
    "![url](images/new_url.png)\n",
    "\n",
    "Por lo que nos moveremos a **view.py** dentro del componente y crearemos nuestra función llamada *`welcome()`*\n",
    "ala cual le pasaremos como parámetro `request`, este es un parámetro especial que proporciona Django que contiene información de la petición web que realizamos al servidor Django.\n",
    "\n",
    "![function](images/def_func.png)\n",
    "\n",
    "de momento mandaremos una respuesta sencilla para ello usaremos el método `HttpResponse` importándolo desde **`django.http`** y pasandole como parámetro un mensaje.\n",
    "\n",
    "![response](images/web_respond.png)\n",
    "\n",
    "Y finalmente importamos la función para su correcto funcionamiento el url establecido\n",
    "\n",
    "![import](images/import_func_welcome.png)\n",
    "\n",
    "Ahora corremos el servidor y comprobamos que funciona accediendo al url de la app creada.\n",
    "\n",
    "![new_app](images/welcome_app.png)\n"
   ]
  }
 ],
 "metadata": {
  "interpreter": {
   "hash": "8e2ca50168e9b3a8a0aee0e5ce7a47d0d3899563172a8b2aa7e0cb3194315acc"
  },
  "kernelspec": {
   "display_name": "Python 3.10.2 ('django-env': venv)",
   "language": "python",
   "name": "python3"
  },
  "language_info": {
   "codemirror_mode": {
    "name": "ipython",
    "version": 3
   },
   "file_extension": ".py",
   "mimetype": "text/x-python",
   "name": "python",
   "nbconvert_exporter": "python",
   "pygments_lexer": "ipython3",
   "version": "3.10.2"
  },
  "orig_nbformat": 4
 },
 "nbformat": 4,
 "nbformat_minor": 2
}
